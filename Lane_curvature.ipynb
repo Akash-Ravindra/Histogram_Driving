{
 "cells": [
  {
   "cell_type": "code",
   "execution_count": 1,
   "metadata": {},
   "outputs": [],
   "source": [
    "import cv2 as cv\n",
    "import numpy as np"
   ]
  },
  {
   "cell_type": "code",
   "execution_count": 3,
   "metadata": {},
   "outputs": [],
   "source": [
    "def showimage(image,label = \"image\"):\n",
    "    cv.imshow(label,image)\n",
    "    cv.waitKey()\n",
    "    cv.destroyAllWindows()\n",
    "def find_slope(line):\n",
    "    x1,y1,x2,y2 = line[0]\n",
    "    return (y2-y1)/(x2-x1)\n",
    "def length_of_line(line):\n",
    "    x1,y1,x2,y2 = line[0]\n",
    "    return np.sqrt((x2-x1)**2+(y2-y1)**2)\n",
    "def find_intercept(line):\n",
    "    x1,y1,x2,y2 = line[0]\n",
    "    return y1-find_slope(line)*x1"
   ]
  },
  {
   "cell_type": "code",
   "execution_count": 4,
   "metadata": {},
   "outputs": [
    {
     "name": "stdout",
     "output_type": "stream",
     "text": [
      "Frame Rate :  25 frames per second\n",
      "Frame count :  251.0\n"
     ]
    }
   ],
   "source": [
    "video_handler = cv.VideoCapture('./Data/challenge.mp4')\n",
    "if (video_handler.isOpened() == False):\n",
    "    print(\"Error opening the video file\")\n",
    "else:\n",
    "# Get frame rate information\n",
    "    fps = int(video_handler.get(5))\n",
    "    print(\"Frame Rate : \",fps,\"frames per second\")\t\n",
    "    # Get frame count\n",
    "    frame_count = video_handler.get(7)\n",
    "    print(\"Frame count : \", frame_count)\n",
    "\n",
    "frame_width = int(video_handler.get(3))\n",
    "frame_height = int(video_handler.get(4))\n",
    "   \n",
    "size = (frame_width, frame_height)\n",
    "result = cv.VideoWriter('Question_3_result.avi', \n",
    "                         cv.VideoWriter_fourcc(*'MJPG'),\n",
    "                         10, size)"
   ]
  },
  {
   "cell_type": "code",
   "execution_count": 5,
   "metadata": {},
   "outputs": [],
   "source": [
    "frames = []\n",
    "i = 0\n",
    "previous_tag=None\n",
    "while(video_handler.isOpened()):\n",
    "    # nonoise_vid.read() methods returns a tuple, first element is a bool \n",
    "    # and the second is frame\n",
    "    ret, frame = video_handler.read()\n",
    "    if ret == True:\n",
    "        frames.append(frame)\n",
    "    else:\n",
    "        break"
   ]
  },
  {
   "cell_type": "code",
   "execution_count": 7,
   "metadata": {},
   "outputs": [],
   "source": [
    "frame = frames[0]\n",
    "showimage(frame)"
   ]
  },
  {
   "cell_type": "code",
   "execution_count": null,
   "metadata": {},
   "outputs": [],
   "source": []
  }
 ],
 "metadata": {
  "interpreter": {
   "hash": "acd080017cf0dd6132684ffe7508bf5fd61ebd1e63834c4891f264571b6d6a53"
  },
  "kernelspec": {
   "display_name": "Python 3.7.11 ('enpm673_homework1')",
   "language": "python",
   "name": "python3"
  },
  "language_info": {
   "codemirror_mode": {
    "name": "ipython",
    "version": 3
   },
   "file_extension": ".py",
   "mimetype": "text/x-python",
   "name": "python",
   "nbconvert_exporter": "python",
   "pygments_lexer": "ipython3",
   "version": "3.7.11"
  },
  "orig_nbformat": 4
 },
 "nbformat": 4,
 "nbformat_minor": 2
}
