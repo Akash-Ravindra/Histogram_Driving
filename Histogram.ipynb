{
 "cells": [
  {
   "cell_type": "code",
   "execution_count": 1,
   "metadata": {},
   "outputs": [],
   "source": [
    "import cv2 as cv\n",
    "import numpy as np"
   ]
  },
  {
   "cell_type": "code",
   "execution_count": 2,
   "metadata": {},
   "outputs": [],
   "source": [
    "def showimage(image,label = \"image\"):\n",
    "    cv.imshow(label,image)\n",
    "    cv.waitKey()\n",
    "    cv.destroyAllWindows()"
   ]
  },
  {
   "cell_type": "code",
   "execution_count": 3,
   "metadata": {},
   "outputs": [],
   "source": [
    "def histogram_eq(image:np.ndarray,bin = 256)->np.ndarray:\n",
    "    intensity, a,b = cv.split(cv.cvtColor(image,cv.COLOR_BGR2LAB))\n",
    "    \n",
    "    ## Find the histogram of the intensities of each pixels within a bin size of 256\n",
    "    hist, _ = np.histogram(intensity, bins=bin)\n",
    "    cumulative_sum = hist.cumsum()\n",
    "    \n",
    "    ## Gets the lowest nonzero element\n",
    "    sort = cumulative_sum.argsort()\n",
    "    cummin = cumulative_sum[sort[0]] if cumulative_sum[sort[0]]!=0 else cumulative_sum[sort[1]]\n",
    "    # cummin = cumulative_sum[cumulative_sum.nonzero()][cumulative_sum[cumulative_sum.nonzero()].argsort()[0]]\n",
    "    \n",
    "    ## Perform the equation found on wikipedia\n",
    "    equ_intensities = np.round(((cumulative_sum[intensity.flatten()]-cummin)/((image.shape[0]*image.shape[1])-cummin)*255))\n",
    "    ## Reshape back into the shape of the image\n",
    "    new_intensities = equ_intensities.reshape((image.shape[0],image.shape[1])).astype(np.uint8)\n",
    "    ## Merge the intensities back with the A,B values\n",
    "    new_image = cv.merge([new_intensities,a,b])\n",
    "    ## Convert back to BGR Space\n",
    "    new_image = cv.cvtColor(new_image,cv.COLOR_LAB2BGR)\n",
    "    \n",
    "    return new_image"
   ]
  },
  {
   "cell_type": "code",
   "execution_count": 4,
   "metadata": {},
   "outputs": [],
   "source": [
    "image = cv.imread('./Data/0000000000.png')\n",
    "showimage(image)\n"
   ]
  },
  {
   "cell_type": "code",
   "execution_count": 5,
   "metadata": {},
   "outputs": [],
   "source": [
    "showimage(histogram_eq(image=image))"
   ]
  },
  {
   "cell_type": "code",
   "execution_count": 6,
   "metadata": {},
   "outputs": [],
   "source": [
    "intensity, a,b = cv.split(cv.cvtColor(image,cv.COLOR_BGR2LAB))\n",
    "\n",
    "showimage(cv.cvtColor(cv.merge([cv.equalizeHist(intensity),a,b]),cv.COLOR_LAB2BGR))"
   ]
  },
  {
   "cell_type": "code",
   "execution_count": 65,
   "metadata": {},
   "outputs": [
    {
     "name": "stderr",
     "output_type": "stream",
     "text": [
      "/home/eurus/anaconda3/envs/enpm673_homework1/lib/python3.7/site-packages/numpy/core/_asarray.py:83: VisibleDeprecationWarning: Creating an ndarray from ragged nested sequences (which is a list-or-tuple of lists-or-tuples-or ndarrays with different lengths or shapes) is deprecated. If you meant to do this, you must specify 'dtype=object' when creating the ndarray\n",
      "  return array(a, dtype, copy=False, order=order)\n"
     ]
    }
   ],
   "source": [
    "tiles = np.array_split(intensity,intensity.shape[0]/8)\n",
    "tile = np.array_split(tiles, tiles[0].shape[1]/8)"
   ]
  },
  {
   "cell_type": "code",
   "execution_count": 64,
   "metadata": {},
   "outputs": [
    {
     "data": {
      "text/plain": [
       "(9, 1224)"
      ]
     },
     "execution_count": 64,
     "metadata": {},
     "output_type": "execute_result"
    }
   ],
   "source": [
    "tiles[0].shape"
   ]
  },
  {
   "cell_type": "code",
   "execution_count": 51,
   "metadata": {},
   "outputs": [
    {
     "data": {
      "text/plain": [
       "(370, 1224)"
      ]
     },
     "execution_count": 51,
     "metadata": {},
     "output_type": "execute_result"
    }
   ],
   "source": [
    "intensity.shape"
   ]
  },
  {
   "cell_type": "code",
   "execution_count": 52,
   "metadata": {},
   "outputs": [
    {
     "data": {
      "text/plain": [
       "46"
      ]
     },
     "execution_count": 52,
     "metadata": {},
     "output_type": "execute_result"
    }
   ],
   "source": [
    "len(tiles)"
   ]
  },
  {
   "cell_type": "code",
   "execution_count": 66,
   "metadata": {},
   "outputs": [
    {
     "data": {
      "text/plain": [
       "153"
      ]
     },
     "execution_count": 66,
     "metadata": {},
     "output_type": "execute_result"
    }
   ],
   "source": [
    "len(tile)"
   ]
  },
  {
   "cell_type": "code",
   "execution_count": null,
   "metadata": {},
   "outputs": [],
   "source": []
  }
 ],
 "metadata": {
  "interpreter": {
   "hash": "acd080017cf0dd6132684ffe7508bf5fd61ebd1e63834c4891f264571b6d6a53"
  },
  "kernelspec": {
   "display_name": "Python 3.7.11 ('enpm673_homework1')",
   "language": "python",
   "name": "python3"
  },
  "language_info": {
   "codemirror_mode": {
    "name": "ipython",
    "version": 3
   },
   "file_extension": ".py",
   "mimetype": "text/x-python",
   "name": "python",
   "nbconvert_exporter": "python",
   "pygments_lexer": "ipython3",
   "version": "3.7.11"
  },
  "orig_nbformat": 4
 },
 "nbformat": 4,
 "nbformat_minor": 2
}
