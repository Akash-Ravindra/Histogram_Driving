{
 "cells": [
  {
   "cell_type": "code",
   "execution_count": 1,
   "metadata": {},
   "outputs": [],
   "source": [
    "import cv2 as cv\n",
    "import numpy as np"
   ]
  },
  {
   "cell_type": "code",
   "execution_count": 2,
   "metadata": {},
   "outputs": [],
   "source": [
    "def showimage(image,label = \"image\"):\n",
    "    cv.imshow(label,image)\n",
    "    cv.waitKey()\n",
    "    cv.destroyAllWindows()"
   ]
  },
  {
   "cell_type": "code",
   "execution_count": 3,
   "metadata": {},
   "outputs": [],
   "source": [
    "def histogram_eq(image:np.ndarray,bin = 256)->np.ndarray:\n",
    "    \n",
    "    \n",
    "    intensity, a,b = cv.split(cv.cvtColor(image,cv.COLOR_BGR2LAB))\n",
    "    ## Find the histogram of the intensities of each pixels within a bin size of 256\n",
    "    hist, _ = np.histogram(intensity, bins=bin)\n",
    "    cumulative_sum = hist.cumsum()\n",
    "    \n",
    "    ## Gets the lowest nonzero element\n",
    "    sort = cumulative_sum.argsort()\n",
    "    cummin = cumulative_sum[sort[0]] if cumulative_sum[sort[0]]!=0 else cumulative_sum[sort[1]]\n",
    "    # cummin = cumulative_sum[cumulative_sum.nonzero()][cumulative_sum[cumulative_sum.nonzero()].argsort()[0]]\n",
    "    \n",
    "    ## Perform the equation found on wikipedia\n",
    "    equ_intensities = np.round(((cumulative_sum[intensity.flatten()]-cummin)/((image.shape[0]*image.shape[1])-cummin)*255))\n",
    "    ## Reshape back into the shape of the image\n",
    "    new_intensities = equ_intensities.reshape((image.shape[0],image.shape[1])).astype(np.uint8)\n",
    "    ## Merge the intensities back with the A,B values\n",
    "    new_image = cv.merge([new_intensities,a,b])\n",
    "    ## Convert back to BGR Space\n",
    "    new_image = cv.cvtColor(new_image,cv.COLOR_LAB2BGR)\n",
    "    \n",
    "    return new_image"
   ]
  },
  {
   "cell_type": "code",
   "execution_count": 4,
   "metadata": {},
   "outputs": [],
   "source": [
    "def bilinear_interpolate(im, x, y):\n",
    "    x = np.asarray(x)\n",
    "    y = np.asarray(y)\n",
    "\n",
    "    x0 = np.floor(x).astype(int)\n",
    "    x1 = x0 + 1\n",
    "    y0 = np.floor(y).astype(int)\n",
    "    y1 = y0 + 1\n",
    "\n",
    "    x0 = np.clip(x0, 0, im.shape[1]-1);\n",
    "    x1 = np.clip(x1, 0, im.shape[1]-1);\n",
    "    y0 = np.clip(y0, 0, im.shape[0]-1);\n",
    "    y1 = np.clip(y1, 0, im.shape[0]-1);\n",
    "\n",
    "    Ia = im[ y0, x0 ]\n",
    "    Ib = im[ y1, x0 ]\n",
    "    Ic = im[ y0, x1 ]\n",
    "    Id = im[ y1, x1 ]\n",
    "\n",
    "    wa = (x1-x) * (y1-y)\n",
    "    wb = (x1-x) * (y-y0)\n",
    "    wc = (x-x0) * (y1-y)\n",
    "    wd = (x-x0) * (y-y0)\n",
    "\n",
    "    return (Ia.T*wa).T + (Ib.T*wb).T + (Ic.T*wc).T + (Id.T*wd).T"
   ]
  },
  {
   "cell_type": "code",
   "execution_count": 5,
   "metadata": {},
   "outputs": [],
   "source": [
    "def adaptive_eq(image:np.ndarray, tile_size = 8):\n",
    "    row_tiles = np.array_split(image,image.shape[0]/tile_size,axis=0)\n",
    "    eq_image = []\n",
    "    for row_tile in row_tiles:\n",
    "        tiles = np.array_split(row_tile, row_tile.shape[1]/tile_size,axis=1)\n",
    "        row_image = histogram_eq(tiles[0])\n",
    "        for tile in tiles[1:]:\n",
    "            eq_tile = histogram_eq(tile)\n",
    "            row_image = np.hstack((row_image,eq_tile))\n",
    "        eq_image.append(row_image)\n",
    "    new_image = np.vstack(eq_image)\n",
    "    boundries_x, boundries_y = list(range(0,new_image.shape[0]-1,tile_size)),list(range(0,new_image.shape[1]-1,tile_size))\n",
    "    for x in boundries_x:\n",
    "            new_image[x,boundries_y] = bilinear_interpolate(new_image,x,boundries_y)\n",
    "    # intensities = bilinear_interpolate(new_image,boundries_x,boundries_y)\n",
    "    # new_image[boundries_x,boundries_y] = intensities\n",
    "    return new_image"
   ]
  },
  {
   "cell_type": "markdown",
   "metadata": {},
   "source": [
    "def adaptive_eq(image:np.ndarray, tile_size = 8):\n",
    "    # row_tiles = np.array_split(image,image.shape[0]/tile_size,axis=0)\n",
    "    sliding_view = np.lib.stride_tricks.sliding_window_view(image,(tile_size,tile_size,3))\n",
    "    eq_image = []\n",
    "    for row_tile in sliding_view:\n",
    "        # tiles = np.array_split(row_tile, row_tile.shape[1]/tile_size,axis=1)\n",
    "        row_image = histogram_eq(row_tile[0,0])[:,0]\n",
    "        for tile in row_tile[1:]:\n",
    "            eq_tile = histogram_eq(tile[0])\n",
    "            row_image = np.hstack((row_image,eq_tile[:,0]))\n",
    "        row_image = np.hstack((row_image,histogram_eq(row_tile[-1][0])[:,-tile_size//2:]))\n",
    "        eq_image.append(row_image)\n",
    "    new_image = np.vstack(eq_image)\n",
    "    return new_image"
   ]
  },
  {
   "cell_type": "code",
   "execution_count": 6,
   "metadata": {},
   "outputs": [],
   "source": [
    "image = cv.imread('./Data/0000000000.png')\n",
    "showimage(image)"
   ]
  },
  {
   "cell_type": "code",
   "execution_count": 7,
   "metadata": {},
   "outputs": [],
   "source": [
    "showimage(histogram_eq(image=image))"
   ]
  },
  {
   "cell_type": "code",
   "execution_count": 8,
   "metadata": {},
   "outputs": [],
   "source": [
    "intensity, a,b = cv.split(cv.cvtColor(image,cv.COLOR_BGR2LAB))\n",
    "\n",
    "showimage(cv.cvtColor(cv.merge([cv.equalizeHist(intensity),a,b]),cv.COLOR_LAB2BGR))"
   ]
  },
  {
   "cell_type": "code",
   "execution_count": 9,
   "metadata": {},
   "outputs": [],
   "source": [
    "showimage(adaptive_eq(image,tile_size=25))"
   ]
  },
  {
   "cell_type": "code",
   "execution_count": null,
   "metadata": {},
   "outputs": [],
   "source": []
  },
  {
   "cell_type": "code",
   "execution_count": 10,
   "metadata": {},
   "outputs": [
    {
     "ename": "AttributeError",
     "evalue": "module 'numpy.lib.stride_tricks' has no attribute 'sliding_window_view'",
     "output_type": "error",
     "traceback": [
      "\u001b[0;31m---------------------------------------------------------------------------\u001b[0m",
      "\u001b[0;31mAttributeError\u001b[0m                            Traceback (most recent call last)",
      "\u001b[0;32m<ipython-input-10-08b5036e1ecb>\u001b[0m in \u001b[0;36m<module>\u001b[0;34m\u001b[0m\n\u001b[0;32m----> 1\u001b[0;31m \u001b[0msliding_view\u001b[0m \u001b[0;34m=\u001b[0m \u001b[0mnp\u001b[0m\u001b[0;34m.\u001b[0m\u001b[0mlib\u001b[0m\u001b[0;34m.\u001b[0m\u001b[0mstride_tricks\u001b[0m\u001b[0;34m.\u001b[0m\u001b[0msliding_window_view\u001b[0m\u001b[0;34m(\u001b[0m\u001b[0mimage\u001b[0m\u001b[0;34m,\u001b[0m\u001b[0;34m(\u001b[0m\u001b[0;36m8\u001b[0m\u001b[0;34m,\u001b[0m\u001b[0;36m8\u001b[0m\u001b[0;34m,\u001b[0m\u001b[0;36m3\u001b[0m\u001b[0;34m)\u001b[0m\u001b[0;34m)\u001b[0m\u001b[0;34m\u001b[0m\u001b[0;34m\u001b[0m\u001b[0m\n\u001b[0m",
      "\u001b[0;31mAttributeError\u001b[0m: module 'numpy.lib.stride_tricks' has no attribute 'sliding_window_view'"
     ]
    }
   ],
   "source": [
    "sliding_view = np.lib.stride_tricks.sliding_window_view(image,(8,8,3))"
   ]
  },
  {
   "cell_type": "code",
   "execution_count": null,
   "metadata": {},
   "outputs": [
    {
     "data": {
      "text/plain": [
       "(1, 8, 8, 3)"
      ]
     },
     "execution_count": 11,
     "metadata": {},
     "output_type": "execute_result"
    }
   ],
   "source": [
    "sliding_view[0,0].shape"
   ]
  },
  {
   "cell_type": "markdown",
   "metadata": {},
   "source": [
    "tile_size = 8\n",
    "sliding_view = np.lib.stride_tricks.sliding_window_view(image,(tile_size,tile_size,3))\n",
    "eq_image = []\n",
    "for row_tile in sliding_view:\n",
    "    # tiles = np.array_split(row_tile, row_tile.shape[1]/tile_size,axis=1)\n",
    "    row_image = histogram_eq(row_tile[0,0])[:,0].reshape((tile_size,1,3))\n",
    "    for tile in row_tile[1:]:\n",
    "        eq_tile = histogram_eq(tile[0])\n",
    "        row_image = np.hstack((row_image,eq_tile[:,0,3].reshape((tile_size,1,3))))\n",
    "    row_image = np.hstack((row_image,histogram_eq(row_tile[-1][0])[:,-tile_size//2:,3].reshape((tile_size,1,3))))\n",
    "    eq_image.append(row_image)\n",
    "new_image = np.vstack(eq_image)"
   ]
  }
 ],
 "metadata": {
  "interpreter": {
   "hash": "acd080017cf0dd6132684ffe7508bf5fd61ebd1e63834c4891f264571b6d6a53"
  },
  "kernelspec": {
   "display_name": "Python 3.7.11 ('enpm673_homework1')",
   "language": "python",
   "name": "python3"
  },
  "language_info": {
   "codemirror_mode": {
    "name": "ipython",
    "version": 3
   },
   "file_extension": ".py",
   "mimetype": "text/x-python",
   "name": "python",
   "nbconvert_exporter": "python",
   "pygments_lexer": "ipython3",
   "version": "3.7.11"
  },
  "orig_nbformat": 4
 },
 "nbformat": 4,
 "nbformat_minor": 2
}
