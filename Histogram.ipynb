{
 "cells": [
  {
   "cell_type": "code",
   "execution_count": 8,
   "metadata": {},
   "outputs": [],
   "source": [
    "import cv2 as cv\n",
    "import numpy as np"
   ]
  },
  {
   "cell_type": "code",
   "execution_count": 9,
   "metadata": {},
   "outputs": [],
   "source": [
    "def showimage(image,label = \"image\"):\n",
    "    cv.imshow(label,image)\n",
    "    cv.waitKey()\n",
    "    cv.destroyAllWindows()"
   ]
  },
  {
   "cell_type": "code",
   "execution_count": 10,
   "metadata": {},
   "outputs": [],
   "source": [
    "def histogram_eq(image:np.ndarray,bin = 256)->np.ndarray:\n",
    "    \n",
    "    \n",
    "    intensity, a,b = cv.split(cv.cvtColor(image,cv.COLOR_BGR2LAB))\n",
    "    ## Find the histogram of the intensities of each pixels within a bin size of 256\n",
    "    hist, _ = np.histogram(intensity, bins=bin)\n",
    "    cumulative_sum = hist.cumsum()\n",
    "    \n",
    "    ## Gets the lowest nonzero element\n",
    "    sort = cumulative_sum.argsort()\n",
    "    cummin = cumulative_sum[sort[0]] if cumulative_sum[sort[0]]!=0 else cumulative_sum[sort[1]]\n",
    "    # cummin = cumulative_sum[cumulative_sum.nonzero()][cumulative_sum[cumulative_sum.nonzero()].argsort()[0]]\n",
    "    \n",
    "    ## Perform the equation found on wikipedia\n",
    "    equ_intensities = np.round(((cumulative_sum[intensity.flatten()]-cummin)/((image.shape[0]*image.shape[1])-cummin)*255))\n",
    "    ## Reshape back into the shape of the image\n",
    "    new_intensities = equ_intensities.reshape((image.shape[0],image.shape[1])).astype(np.uint8)\n",
    "    \n",
    "    ## Merge the intensities back with the A,B values\n",
    "    new_image = cv.merge([new_intensities,a,b])\n",
    "    ## Convert back to BGR Space\n",
    "    new_image = cv.cvtColor(new_image,cv.COLOR_LAB2BGR)\n",
    "    \n",
    "    return new_image"
   ]
  },
  {
   "cell_type": "code",
   "execution_count": 11,
   "metadata": {},
   "outputs": [],
   "source": [
    "def bilinear_interpolate(im, x, y):\n",
    "    x = np.asarray(x)\n",
    "    y = np.asarray(y)\n",
    "\n",
    "    x0 = np.floor(x).astype(int)\n",
    "    x1 = x0 + 1\n",
    "    y0 = np.floor(y).astype(int)\n",
    "    y1 = y0 + 1\n",
    "\n",
    "    x0 = np.clip(x0, 0, im.shape[1]-1);\n",
    "    x1 = np.clip(x1, 0, im.shape[1]-1);\n",
    "    y0 = np.clip(y0, 0, im.shape[0]-1);\n",
    "    y1 = np.clip(y1, 0, im.shape[0]-1);\n",
    "\n",
    "    Ia = im[ y0, x0 ]\n",
    "    Ib = im[ y1, x0 ]\n",
    "    Ic = im[ y0, x1 ]\n",
    "    Id = im[ y1, x1 ]\n",
    "\n",
    "    wa = (x1-x) * (y1-y)\n",
    "    wb = (x1-x) * (y-y0)\n",
    "    wc = (x-x0) * (y1-y)\n",
    "    wd = (x-x0) * (y-y0)\n",
    "\n",
    "    return (Ia.T*wa).T + (Ib.T*wb).T + (Ic.T*wc).T + (Id.T*wd).T"
   ]
  },
  {
   "cell_type": "code",
   "execution_count": 12,
   "metadata": {},
   "outputs": [],
   "source": [
    "def adaptive_eq(image:np.ndarray, tile_size = 8,bin = 256):\n",
    "    row_tiles = np.array_split(image,image.shape[0]/tile_size,axis=0)\n",
    "    eq_image = []\n",
    "    for row_tile in row_tiles:\n",
    "        tiles = np.array_split(row_tile, row_tile.shape[1]/tile_size,axis=1)\n",
    "        row_image = histogram_eq(tiles[0])\n",
    "        for tile in tiles[1:]:\n",
    "            eq_tile = histogram_eq(tile)\n",
    "            row_image = np.hstack((row_image,eq_tile))\n",
    "        eq_image.append(row_image)\n",
    "    new_image = np.vstack(eq_image)\n",
    "    boundries_x, boundries_y = list(range(0,new_image.shape[0]-1,tile_size)),list(range(0,new_image.shape[1]-1,tile_size))\n",
    "    for x in boundries_x:\n",
    "            new_image[x,boundries_y] = bilinear_interpolate(new_image,x,boundries_y)\n",
    "    # intensities = bilinear_interpolate(new_image,boundries_x,boundries_y)\n",
    "    # new_image[boundries_x,boundries_y] = intensities\n",
    "    return new_image"
   ]
  },
  {
   "cell_type": "code",
   "execution_count": 13,
   "metadata": {},
   "outputs": [],
   "source": [
    "size = (int(1224),int(370))\n",
    "result_hist = cv.VideoWriter('Question_1_histogram.avi', cv.VideoWriter_fourcc(*'MJPG'),10, size) \n",
    "result_adapt = cv.VideoWriter('Question_1_adaptive_histogram.avi', cv.VideoWriter_fourcc(*'MJPG'),10, size) "
   ]
  },
  {
   "cell_type": "code",
   "execution_count": 14,
   "metadata": {},
   "outputs": [],
   "source": [
    "import glob\n",
    "output_frame = np.zeros((size[1]*3,size[0],3),dtype=np.uint8)\n",
    "images = [cv.imread(file) for file in glob.glob('./Data/*.png')]\n",
    "for image in images:\n",
    "    output_hist = histogram_eq(image)\n",
    "    output_adapt = adaptive_eq(image,150)\n",
    "    output_frame[0:size[1],0:size[0]] = image\n",
    "    output_frame[size[1]:size[1]*2,:size[0]] = output_hist\n",
    "    output_frame[size[1]*2:,:size[0]] = output_adapt\n",
    "    cv.imshow(\"output\",output_frame)\n",
    "    if cv.waitKey(0) & 0xFF == ord('s'):\n",
    "            cv.destroyAllWindows()\n",
    "            break\n",
    "    # result_hist.write(output_hist)\n",
    "    # result_adapt.write(output_adapt)\n",
    "cv.waitKey(1)\n",
    "cv.destroyAllWindows()\n",
    "    "
   ]
  },
  {
   "cell_type": "code",
   "execution_count": 9,
   "metadata": {},
   "outputs": [],
   "source": [
    "def calculate_ssd(img1, img2):\n",
    "    \"\"\"Computing the sum of squared differences (SSD) between two images.\"\"\"\n",
    "    if img1.shape != img2.shape:\n",
    "        print(\"Images don't have the same shape.\")\n",
    "        return\n",
    "    return np.sum((np.array(img1, dtype=np.float32) - np.array(img2, dtype=np.float32))**2)"
   ]
  },
  {
   "cell_type": "code",
   "execution_count": 16,
   "metadata": {},
   "outputs": [],
   "source": [
    "import matplotlib.pyplot as plt"
   ]
  },
  {
   "cell_type": "code",
   "execution_count": 39,
   "metadata": {},
   "outputs": [
    {
     "data": {
      "image/png": "[encoded data removed]",
      "text/plain": [
       "<Figure size 432x288 with 1 Axes>"
      ]
     },
     "metadata": {
      "needs_background": "light"
     },
     "output_type": "display_data"
    }
   ],
   "source": [
    "intensity,_,_ = cv.split(cv.cvtColor(image,cv.COLOR_BGR2LAB))\n",
    "_ = plt.hist(intensity.flatten(),bins=256)\n",
    "plt.title(\"Histogram of the Original Image\")\n",
    "plt.show()"
   ]
  },
  {
   "cell_type": "code",
   "execution_count": 41,
   "metadata": {},
   "outputs": [
    {
     "data": {
      "image/png": "[encoded data removed]",
      "text/plain": [
       "<Figure size 432x288 with 1 Axes>"
      ]
     },
     "metadata": {
      "needs_background": "light"
     },
     "output_type": "display_data"
    }
   ],
   "source": [
    "intensity,_,_ = cv.split(cv.cvtColor(output_hist,cv.COLOR_BGR2LAB))\n",
    "_ = plt.hist(intensity.flatten(),bins=256)\n",
    "plt.title(\"Histogram of the Equalized Image\")\n",
    "plt.show()"
   ]
  },
  {
   "cell_type": "code",
   "execution_count": 42,
   "metadata": {},
   "outputs": [
    {
     "data": {
      "image/png": "[encoded data removed]",
      "text/plain": [
       "<Figure size 432x288 with 1 Axes>"
      ]
     },
     "metadata": {
      "needs_background": "light"
     },
     "output_type": "display_data"
    }
   ],
   "source": [
    "intensity,_,_ = cv.split(cv.cvtColor(output_adapt,cv.COLOR_BGR2LAB))\n",
    "_ = plt.hist(intensity.flatten(),bins=256)\n",
    "plt.title(\"Histogram of the Adaptively equalized Image\")\n",
    "plt.show()"
   ]
  },
  {
   "cell_type": "code",
   "execution_count": null,
   "metadata": {},
   "outputs": [],
   "source": []
  }
 ],
 "metadata": {
  "interpreter": {
   "hash": "acd080017cf0dd6132684ffe7508bf5fd61ebd1e63834c4891f264571b6d6a53"
  },
  "kernelspec": {
   "display_name": "Python 3.7.11 ('enpm673_homework1')",
   "language": "python",
   "name": "python3"
  },
  "language_info": {
   "codemirror_mode": {
    "name": "ipython",
    "version": 3
   },
   "file_extension": ".py",
   "mimetype": "text/x-python",
   "name": "python",
   "nbconvert_exporter": "python",
   "pygments_lexer": "ipython3",
   "version": "3.7.11"
  },
  "orig_nbformat": 4
 },
 "nbformat": 4,
 "nbformat_minor": 2
}
