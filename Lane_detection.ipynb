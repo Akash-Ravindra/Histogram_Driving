{
 "cells": [
  {
   "cell_type": "code",
   "execution_count": 1,
   "metadata": {},
   "outputs": [],
   "source": [
    "import cv2 as cv\n",
    "import numpy as np"
   ]
  },
  {
   "cell_type": "code",
   "execution_count": 2,
   "metadata": {},
   "outputs": [],
   "source": [
    "def showimage(image,label = \"image\"):\n",
    "    cv.imshow(label,image)\n",
    "    cv.waitKey()\n",
    "    cv.destroyAllWindows()"
   ]
  },
  {
   "cell_type": "code",
   "execution_count": 3,
   "metadata": {},
   "outputs": [
    {
     "name": "stdout",
     "output_type": "stream",
     "text": [
      "Frame Rate :  25 frames per second\n",
      "Frame count :  221.0\n"
     ]
    }
   ],
   "source": [
    "video_handler = cv.VideoCapture('./Data/whiteline.mp4')\n",
    "if (video_handler.isOpened() == False):\n",
    "    print(\"Error opening the video file\")\n",
    "else:\n",
    "# Get frame rate information\n",
    "    fps = int(video_handler.get(5))\n",
    "    print(\"Frame Rate : \",fps,\"frames per second\")\t\n",
    "    # Get frame count\n",
    "    frame_count = video_handler.get(7)\n",
    "    print(\"Frame count : \", frame_count)\n",
    "\n",
    "frames = []\n",
    "previous_tag=None\n",
    "while(video_handler.isOpened()):\n",
    "    # nonoise_vid.read() methods returns a tuple, first element is a bool \n",
    "    # and the second is frame\n",
    "    ret, frame = video_handler.read()\n",
    "    if ret == True:\n",
    "        frames.append(frame)\n",
    "        \n",
    "    break"
   ]
  },
  {
   "cell_type": "code",
   "execution_count": 4,
   "metadata": {},
   "outputs": [],
   "source": [
    "showimage(frames[0])"
   ]
  },
  {
   "cell_type": "code",
   "execution_count": 68,
   "metadata": {},
   "outputs": [],
   "source": [
    "gray = cv.cvtColor(frame,cv.COLOR_BGR2GRAY)\n",
    "gray_blurred = cv.GaussianBlur(gray,(5,5),0)\n",
    "clahe = cv.createCLAHE(clipLimit=2.0,tileGridSize=(8,8))\n",
    "adpt_hist = clahe.apply(gray_blurred)\n",
    "ret, thresh = cv.threshold(adpt_hist,127,256,cv.THRESH_BINARY+cv.THRESH_OTSU)\n",
    "edges_image = cv.Canny(thresh,50,150,apertureSize = 3)\n",
    "# showimage(thresh)\n",
    "ROI_points = np.array([[(150,frame.shape[0]),(880,frame.shape[0]),(480,300)]])\n",
    "masked_image = np.zeros_like(edges_image)\n",
    "mask = cv.fillPoly(masked_image,ROI_points,255)\n",
    "masked_image = cv.bitwise_and(edges_image,mask)\n",
    "showimage(masked_image)"
   ]
  },
  {
   "cell_type": "code",
   "execution_count": 81,
   "metadata": {},
   "outputs": [],
   "source": [
    "lines = cv.HoughLinesP(masked_image,1,np.pi/180,120,np.array([]),minLineLength=70,maxLineGap=5)"
   ]
  },
  {
   "cell_type": "code",
   "execution_count": 82,
   "metadata": {},
   "outputs": [
    {
     "data": {
      "text/plain": [
       "(4, 1, 4)"
      ]
     },
     "execution_count": 82,
     "metadata": {},
     "output_type": "execute_result"
    }
   ],
   "source": [
    "lines.shape"
   ]
  },
  {
   "cell_type": "code",
   "execution_count": 83,
   "metadata": {},
   "outputs": [],
   "source": [
    "frame_cpy = np.copy(frame)"
   ]
  },
  {
   "cell_type": "code",
   "execution_count": 84,
   "metadata": {},
   "outputs": [],
   "source": [
    "for i in range(0, len(lines)):\n",
    "        l = lines[i][0]\n",
    "        cv.line(frame_cpy, (l[0], l[1]), (l[2], l[3]), (0,0,255), 3, cv.LINE_AA)\n",
    "        showimage(frame_cpy)"
   ]
  },
  {
   "cell_type": "code",
   "execution_count": 16,
   "metadata": {},
   "outputs": [],
   "source": [
    "## Average out lengths the lines of the similar slope and use that to distinguish the lines "
   ]
  },
  {
   "cell_type": "code",
   "execution_count": null,
   "metadata": {},
   "outputs": [],
   "source": []
  }
 ],
 "metadata": {
  "interpreter": {
   "hash": "d002c88899aefa9981c869b211d493db0c55adb45f78cd2d618ec0e7130067d5"
  },
  "kernelspec": {
   "display_name": "Python 3.7.11 ('myenv')",
   "language": "python",
   "name": "python3"
  },
  "language_info": {
   "codemirror_mode": {
    "name": "ipython",
    "version": 3
   },
   "file_extension": ".py",
   "mimetype": "text/x-python",
   "name": "python",
   "nbconvert_exporter": "python",
   "pygments_lexer": "ipython3",
   "version": "3.7.11"
  },
  "orig_nbformat": 4
 },
 "nbformat": 4,
 "nbformat_minor": 2
}
